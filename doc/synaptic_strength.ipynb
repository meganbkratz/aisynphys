{
 "cells": [
  {
   "cell_type": "code",
   "execution_count": 1,
   "metadata": {},
   "outputs": [],
   "source": [
    "import numpy as np\n",
    "from multipatch_analysis.database import SynphysDatabase\n",
    "from multipatch_analysis.cell_class import CellClass, classify_pairs"
   ]
  },
  {
   "cell_type": "code",
   "execution_count": 2,
   "metadata": {},
   "outputs": [],
   "source": [
    "db = SynphysDatabase(ro_host='sqlite:///', rw_host=None, db_name='/home/luke/public/synphys_current_small.sqlite')"
   ]
  },
  {
   "cell_type": "markdown",
   "metadata": {},
   "source": [
    "Define two cell classes:\n",
    "- presynaptic cells are L2/3 pyramidal cells\n",
    "- postsynaptic cells are Pvalb positive (any layer)"
   ]
  },
  {
   "cell_type": "code",
   "execution_count": 3,
   "metadata": {},
   "outputs": [],
   "source": [
    "pre_class = CellClass(target_layer='2/3', cre_type='unknown')\n",
    "post_class = CellClass(cre_type='pvalb')\n",
    "classes = {\n",
    "    'L2/3 Sst': pre_class,\n",
    "    'Pvalb': post_class,\n",
    "}"
   ]
  },
  {
   "cell_type": "markdown",
   "metadata": {},
   "source": [
    "Get a list of all cell pairs in the database that match these cell type criteria. We also filter here for a specific project name \"mouse V1 coarse matrix\" in order to exclude Other experiment types."
   ]
  },
  {
   "cell_type": "code",
   "execution_count": 4,
   "metadata": {},
   "outputs": [
    {
     "data": {
      "text/plain": [
       "436"
      ]
     },
     "execution_count": 4,
     "metadata": {},
     "output_type": "execute_result"
    }
   ],
   "source": [
    "pair_query = db.pair_query(project_name=\"mouse V1 coarse matrix\", pre_class=pre_class, post_class=post_class)\n",
    "pairs = pair_query.all()\n",
    "len(pairs)"
   ]
  },
  {
   "cell_type": "markdown",
   "metadata": {},
   "source": [
    "The results of this query can also be returned as a pandas dataframe:"
   ]
  },
  {
   "cell_type": "code",
   "execution_count": 5,
   "metadata": {},
   "outputs": [
    {
     "data": {
      "text/html": [
       "<div>\n",
       "<style scoped>\n",
       "    .dataframe tbody tr th:only-of-type {\n",
       "        vertical-align: middle;\n",
       "    }\n",
       "\n",
       "    .dataframe tbody tr th {\n",
       "        vertical-align: top;\n",
       "    }\n",
       "\n",
       "    .dataframe thead th {\n",
       "        text-align: right;\n",
       "    }\n",
       "</style>\n",
       "<table border=\"1\" class=\"dataframe\">\n",
       "  <thead>\n",
       "    <tr style=\"text-align: right;\">\n",
       "      <th></th>\n",
       "      <th>id</th>\n",
       "      <th>experiment_id</th>\n",
       "      <th>pre_cell_id</th>\n",
       "      <th>post_cell_id</th>\n",
       "      <th>has_synapse</th>\n",
       "      <th>has_electrical</th>\n",
       "      <th>crosstalk_artifact</th>\n",
       "      <th>n_ex_test_spikes</th>\n",
       "      <th>n_in_test_spikes</th>\n",
       "      <th>distance</th>\n",
       "      <th>meta</th>\n",
       "    </tr>\n",
       "  </thead>\n",
       "  <tbody>\n",
       "    <tr>\n",
       "      <th>0</th>\n",
       "      <td>42172</td>\n",
       "      <td>1202</td>\n",
       "      <td>7199</td>\n",
       "      <td>7201</td>\n",
       "      <td>False</td>\n",
       "      <td>False</td>\n",
       "      <td>None</td>\n",
       "      <td>0</td>\n",
       "      <td>0</td>\n",
       "      <td>0.000090</td>\n",
       "      <td>None</td>\n",
       "    </tr>\n",
       "    <tr>\n",
       "      <th>1</th>\n",
       "      <td>42173</td>\n",
       "      <td>1202</td>\n",
       "      <td>7199</td>\n",
       "      <td>7202</td>\n",
       "      <td>False</td>\n",
       "      <td>False</td>\n",
       "      <td>None</td>\n",
       "      <td>0</td>\n",
       "      <td>0</td>\n",
       "      <td>0.000215</td>\n",
       "      <td>None</td>\n",
       "    </tr>\n",
       "    <tr>\n",
       "      <th>2</th>\n",
       "      <td>42181</td>\n",
       "      <td>1204</td>\n",
       "      <td>7204</td>\n",
       "      <td>7208</td>\n",
       "      <td>False</td>\n",
       "      <td>False</td>\n",
       "      <td>None</td>\n",
       "      <td>0</td>\n",
       "      <td>0</td>\n",
       "      <td>0.000152</td>\n",
       "      <td>None</td>\n",
       "    </tr>\n",
       "    <tr>\n",
       "      <th>3</th>\n",
       "      <td>42184</td>\n",
       "      <td>1204</td>\n",
       "      <td>7204</td>\n",
       "      <td>7209</td>\n",
       "      <td>False</td>\n",
       "      <td>False</td>\n",
       "      <td>None</td>\n",
       "      <td>0</td>\n",
       "      <td>0</td>\n",
       "      <td>0.000143</td>\n",
       "      <td>None</td>\n",
       "    </tr>\n",
       "    <tr>\n",
       "      <th>4</th>\n",
       "      <td>42188</td>\n",
       "      <td>1204</td>\n",
       "      <td>7204</td>\n",
       "      <td>7211</td>\n",
       "      <td>False</td>\n",
       "      <td>False</td>\n",
       "      <td>None</td>\n",
       "      <td>0</td>\n",
       "      <td>0</td>\n",
       "      <td>0.000163</td>\n",
       "      <td>None</td>\n",
       "    </tr>\n",
       "  </tbody>\n",
       "</table>\n",
       "</div>"
      ],
      "text/plain": [
       "      id  experiment_id  pre_cell_id  post_cell_id has_synapse has_electrical  \\\n",
       "0  42172           1202         7199          7201       False          False   \n",
       "1  42173           1202         7199          7202       False          False   \n",
       "2  42181           1204         7204          7208       False          False   \n",
       "3  42184           1204         7204          7209       False          False   \n",
       "4  42188           1204         7204          7211       False          False   \n",
       "\n",
       "  crosstalk_artifact  n_ex_test_spikes  n_in_test_spikes  distance  meta  \n",
       "0               None                 0                 0  0.000090  None  \n",
       "1               None                 0                 0  0.000215  None  \n",
       "2               None                 0                 0  0.000152  None  \n",
       "3               None                 0                 0  0.000143  None  \n",
       "4               None                 0                 0  0.000163  None  "
      ]
     },
     "execution_count": 5,
     "metadata": {},
     "output_type": "execute_result"
    }
   ],
   "source": [
    "pair_df = db.dataframe(pair_query)\n",
    "pair_df.head()"
   ]
  },
  {
   "cell_type": "markdown",
   "metadata": {},
   "source": [
    "Of the 374 pairs that were probed in the dataset above, only a fraction of them were found to be connected by a synapse:"
   ]
  },
  {
   "cell_type": "code",
   "execution_count": 10,
   "metadata": {
    "scrolled": false
   },
   "outputs": [
    {
     "data": {
      "text/html": [
       "<div>\n",
       "<style scoped>\n",
       "    .dataframe tbody tr th:only-of-type {\n",
       "        vertical-align: middle;\n",
       "    }\n",
       "\n",
       "    .dataframe tbody tr th {\n",
       "        vertical-align: top;\n",
       "    }\n",
       "\n",
       "    .dataframe thead th {\n",
       "        text-align: right;\n",
       "    }\n",
       "</style>\n",
       "<table border=\"1\" class=\"dataframe\">\n",
       "  <thead>\n",
       "    <tr style=\"text-align: right;\">\n",
       "      <th></th>\n",
       "      <th>id</th>\n",
       "      <th>experiment_id</th>\n",
       "      <th>pre_cell_id</th>\n",
       "      <th>post_cell_id</th>\n",
       "      <th>has_synapse</th>\n",
       "      <th>has_electrical</th>\n",
       "      <th>crosstalk_artifact</th>\n",
       "      <th>n_ex_test_spikes</th>\n",
       "      <th>n_in_test_spikes</th>\n",
       "      <th>distance</th>\n",
       "      <th>meta</th>\n",
       "    </tr>\n",
       "  </thead>\n",
       "  <tbody>\n",
       "    <tr>\n",
       "      <th>62</th>\n",
       "      <td>59620</td>\n",
       "      <td>1758</td>\n",
       "      <td>10399</td>\n",
       "      <td>10394</td>\n",
       "      <td>True</td>\n",
       "      <td>False</td>\n",
       "      <td>None</td>\n",
       "      <td>1034</td>\n",
       "      <td>480</td>\n",
       "      <td>0.000102</td>\n",
       "      <td>None</td>\n",
       "    </tr>\n",
       "    <tr>\n",
       "      <th>65</th>\n",
       "      <td>59635</td>\n",
       "      <td>1758</td>\n",
       "      <td>10401</td>\n",
       "      <td>10394</td>\n",
       "      <td>True</td>\n",
       "      <td>False</td>\n",
       "      <td>None</td>\n",
       "      <td>1041</td>\n",
       "      <td>480</td>\n",
       "      <td>0.000145</td>\n",
       "      <td>None</td>\n",
       "    </tr>\n",
       "    <tr>\n",
       "      <th>84</th>\n",
       "      <td>61432</td>\n",
       "      <td>1823</td>\n",
       "      <td>10750</td>\n",
       "      <td>10743</td>\n",
       "      <td>True</td>\n",
       "      <td>False</td>\n",
       "      <td>None</td>\n",
       "      <td>168</td>\n",
       "      <td>36</td>\n",
       "      <td>0.000038</td>\n",
       "      <td>None</td>\n",
       "    </tr>\n",
       "    <tr>\n",
       "      <th>97</th>\n",
       "      <td>61797</td>\n",
       "      <td>1837</td>\n",
       "      <td>10820</td>\n",
       "      <td>10821</td>\n",
       "      <td>True</td>\n",
       "      <td>False</td>\n",
       "      <td>None</td>\n",
       "      <td>946</td>\n",
       "      <td>72</td>\n",
       "      <td>0.000053</td>\n",
       "      <td>None</td>\n",
       "    </tr>\n",
       "    <tr>\n",
       "      <th>112</th>\n",
       "      <td>61864</td>\n",
       "      <td>1839</td>\n",
       "      <td>10833</td>\n",
       "      <td>10838</td>\n",
       "      <td>True</td>\n",
       "      <td>False</td>\n",
       "      <td>None</td>\n",
       "      <td>1441</td>\n",
       "      <td>731</td>\n",
       "      <td>0.000131</td>\n",
       "      <td>None</td>\n",
       "    </tr>\n",
       "  </tbody>\n",
       "</table>\n",
       "</div>"
      ],
      "text/plain": [
       "        id  experiment_id  pre_cell_id  post_cell_id has_synapse  \\\n",
       "62   59620           1758        10399         10394        True   \n",
       "65   59635           1758        10401         10394        True   \n",
       "84   61432           1823        10750         10743        True   \n",
       "97   61797           1837        10820         10821        True   \n",
       "112  61864           1839        10833         10838        True   \n",
       "\n",
       "    has_electrical crosstalk_artifact  n_ex_test_spikes  n_in_test_spikes  \\\n",
       "62           False               None              1034               480   \n",
       "65           False               None              1041               480   \n",
       "84           False               None               168                36   \n",
       "97           False               None               946                72   \n",
       "112          False               None              1441               731   \n",
       "\n",
       "     distance  meta  \n",
       "62   0.000102  None  \n",
       "65   0.000145  None  \n",
       "84   0.000038  None  \n",
       "97   0.000053  None  \n",
       "112  0.000131  None  "
      ]
     },
     "execution_count": 10,
     "metadata": {},
     "output_type": "execute_result"
    }
   ],
   "source": [
    "connected_mask = pair_df['has_synapse'] == True\n",
    "synapse_df = pair_df[connected_mask]\n",
    "synapse_df.head()"
   ]
  },
  {
   "cell_type": "code",
   "execution_count": 15,
   "metadata": {},
   "outputs": [
    {
     "name": "stdout",
     "output_type": "stream",
     "text": [
      "Average PSP amplitude for L2/3 unknown->pvalb: 0.33 mV\n"
     ]
    }
   ],
   "source": [
    "amps = [pair.synapse.psp_amplitude for pair in pairs if pair.has_synapse]\n",
    "amps = [amp for amp in amps if amp is not None]\n",
    "print(\"Average PSP amplitude for %s->%s: %0.2f mV\" % (pre_class, post_class, np.mean(amps)*1e3))"
   ]
  }
 ],
 "metadata": {
  "kernelspec": {
   "display_name": "Python 3",
   "language": "python",
   "name": "python3"
  },
  "language_info": {
   "codemirror_mode": {
    "name": "ipython",
    "version": 3
   },
   "file_extension": ".py",
   "mimetype": "text/x-python",
   "name": "python",
   "nbconvert_exporter": "python",
   "pygments_lexer": "ipython3",
   "version": "3.7.2"
  }
 },
 "nbformat": 4,
 "nbformat_minor": 2
}
